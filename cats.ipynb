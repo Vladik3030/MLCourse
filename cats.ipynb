{
 "cells": [
  {
   "cell_type": "code",
   "execution_count": 1,
   "metadata": {
    "collapsed": true
   },
   "outputs": [],
   "source": [
    "import numpy as np\n",
    "import pandas as pd\n",
    "import re\n",
    "from numpy.linalg import norm"
   ]
  },
  {
   "cell_type": "code",
   "execution_count": 2,
   "outputs": [],
   "source": [
    "with open('cats.txt','r') as file:\n",
    "    cats = file.readlines()\n",
    "\n",
    "sentences = pd.DataFrame(cats,columns=['sentences'])"
   ],
   "metadata": {
    "collapsed": false,
    "pycharm": {
     "name": "#%%\n"
    }
   }
  },
  {
   "cell_type": "code",
   "execution_count": 3,
   "outputs": [
    {
     "name": "stderr",
     "output_type": "stream",
     "text": [
      "d:\\projects\\pyinstagram\\venv\\lib\\site-packages\\ipykernel_launcher.py:22: SettingWithCopyWarning: \n",
      "A value is trying to be set on a copy of a slice from a DataFrame\n",
      "\n",
      "See the caveats in the documentation: https://pandas.pydata.org/pandas-docs/stable/user_guide/indexing.html#returning-a-view-versus-a-copy\n"
     ]
    }
   ],
   "source": [
    "# пробегаемся по каждому предложению и находим там только слова с помощю регулярок\n",
    "cats = [re.findall('[a-z]+',cat.lower()) for cat in cats if cat]\n",
    "\n",
    "# фунция для создания уникального \"мешка слов\"\n",
    "def bag_of_words(sentences):\n",
    "    temp = []\n",
    "    for sentence in sentences:\n",
    "        for word in sentence:\n",
    "            if word not in temp:\n",
    "                temp.append(word)\n",
    "    return temp\n",
    "\n",
    "# функция для оперделения косинусного расстояния двух векторов\n",
    "def cosine_dist(pair):\n",
    "    i,j = pair\n",
    "    return (i@j).sum()/(norm(i)*norm(j))\n",
    "bag = bag_of_words(cats)\n",
    "\n",
    "# создаём столбцы для каждого слова в таблице и заполняем их нулями\n",
    "for word in bag:\n",
    "    sentences[word] = np.zeros((sentences.shape[0]))\n",
    "\n",
    "# заполняем таблицу частотой слов в каждом предложении\n",
    "for e,c in enumerate(cats):\n",
    "    for word in c:\n",
    "        word_column = sentences[word]\n",
    "        word_column[e] += 1\n",
    "\n",
    "# находим косинусное расстояние для каждого предложения с первым\n",
    "results = []\n",
    "for i in range(sentences.shape[0]):\n",
    "    data = sentences.copy()\n",
    "    true_cats = np.array(data.iloc[0,1:].to_list())\n",
    "    comp_cats = np.array(data.iloc[i,1:].to_list())\n",
    "    res = cosine_dist([true_cats,comp_cats])\n",
    "    results.append(res)"
   ],
   "metadata": {
    "collapsed": false,
    "pycharm": {
     "name": "#%%\n"
    }
   }
  },
  {
   "cell_type": "code",
   "execution_count": 9,
   "outputs": [],
   "source": [
    "# находим топ-3 близлежащих к первому предложению ответа\n",
    "res = np.sort(results).tolist()\n",
    "res.reverse()\n",
    "top3 = res[1:4]\n",
    "sentences['results'] = results"
   ],
   "metadata": {
    "collapsed": false,
    "pycharm": {
     "name": "#%%\n"
    }
   }
  },
  {
   "cell_type": "code",
   "execution_count": 10,
   "outputs": [
    {
     "name": "stdout",
     "output_type": "stream",
     "text": [
      "[6]\n",
      "Domestic cats are similar in size to the other members of the genus Felis, typically weighing between 4 and 5 kg (8,8 and 11,0 lb).\n",
      "\n",
      "[4]\n",
      "In one, people deliberately tamed cats in a process of artificial selection, as they were useful predators of vermin.\n",
      "\n",
      "[21]\n",
      "The fifth major update to Mac OS X, Leopard, contains such a mountain of features - more than 300 by Apple's count.\n"
     ]
    }
   ],
   "source": [
    "# выводим топ-3 предложения по ответам, найденным в предыдущей ячейке\n",
    "for one in top3:\n",
    "    idx = sentences.index[sentences['results']==one].to_list()\n",
    "    print(idx)\n",
    "    print(sentences['sentences'][idx[0]])"
   ],
   "metadata": {
    "collapsed": false,
    "pycharm": {
     "name": "#%%\n"
    }
   }
  },
  {
   "cell_type": "code",
   "execution_count": 11,
   "outputs": [
    {
     "data": {
      "text/plain": "0     1.000000\n1     0.047246\n2     0.135526\n3     0.104828\n4     0.222911\n5     0.059761\n6     0.267261\n7     0.074125\n8     0.115728\n9     0.094491\n10    0.167183\n11    0.119523\n12    0.160357\n13    0.129641\n14    0.125988\n15    0.055728\n16    0.159364\n17    0.043355\n18    0.055728\n19    0.111456\n20    0.157243\n21    0.174964\nName: results, dtype: float64"
     },
     "execution_count": 11,
     "metadata": {},
     "output_type": "execute_result"
    }
   ],
   "source": [],
   "metadata": {
    "collapsed": false,
    "pycharm": {
     "name": "#%%\n"
    }
   }
  }
 ],
 "metadata": {
  "kernelspec": {
   "display_name": "Python 3",
   "language": "python",
   "name": "python3"
  },
  "language_info": {
   "codemirror_mode": {
    "name": "ipython",
    "version": 2
   },
   "file_extension": ".py",
   "mimetype": "text/x-python",
   "name": "python",
   "nbconvert_exporter": "python",
   "pygments_lexer": "ipython2",
   "version": "2.7.6"
  }
 },
 "nbformat": 4,
 "nbformat_minor": 0
}